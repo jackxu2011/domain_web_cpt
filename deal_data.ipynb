{
 "cells": [
  {
   "cell_type": "code",
   "execution_count": null,
   "id": "2b9183e9",
   "metadata": {},
   "outputs": [],
   "source": [
    "from utils.merge_csv import merge_csv\n",
    "\n",
    "merge_csv('llm/ge4/', 'data/pos/llm_ge4.csv')\n",
    "merge_csv('llm/eq3/', 'llm/eq3/llm_eq3.csv')\n",
    "merge_csv('llm/eq2/', 'llm/eq2/llm_eq2.csv')\n",
    "merge_csv('llm/le1/', 'llm/le1/llm_le1.csv')\n"
   ]
  }
 ],
 "metadata": {
  "kernelspec": {
   "display_name": "web",
   "language": "python",
   "name": "python3"
  },
  "language_info": {
   "codemirror_mode": {
    "name": "ipython",
    "version": 3
   },
   "file_extension": ".py",
   "mimetype": "text/x-python",
   "name": "python",
   "nbconvert_exporter": "python",
   "pygments_lexer": "ipython3",
   "version": "3.12.11"
  }
 },
 "nbformat": 4,
 "nbformat_minor": 5
}
