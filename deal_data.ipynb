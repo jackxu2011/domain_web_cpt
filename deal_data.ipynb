{
 "cells": [
  {
   "cell_type": "code",
   "execution_count": null,
   "id": "2b9183e9",
   "metadata": {},
   "outputs": [
    {
     "name": "stderr",
     "output_type": "stream",
     "text": [
      "read files: 100%|██████████| 2/2 [00:05<00:00,  2.84s/it]\n",
      "\u001b[32m2025-09-08 19:22:42.484\u001b[0m | \u001b[1mINFO    \u001b[0m | \u001b[36mutils.merge_csv\u001b[0m:\u001b[36mmerge_csv\u001b[0m:\u001b[36m24\u001b[0m - \u001b[1m原始数据行数: 88146\u001b[0m\n",
      "\u001b[32m2025-09-08 19:22:43.567\u001b[0m | \u001b[1mINFO    \u001b[0m | \u001b[36mutils.merge_csv\u001b[0m:\u001b[36mmerge_csv\u001b[0m:\u001b[36m25\u001b[0m - \u001b[1m重复行数量: 69\u001b[0m\n",
      "/root/web/utils/merge_csv.py:30: SettingWithCopyWarning: \n",
      "A value is trying to be set on a copy of a slice from a DataFrame.\n",
      "Try using .loc[row_indexer,col_indexer] = value instead\n",
      "\n",
      "See the caveats in the documentation: https://pandas.pydata.org/pandas-docs/stable/user_guide/indexing.html#returning-a-view-versus-a-copy\n",
      "  df_cleaned['text'] = df_cleaned.text.apply(lambda x: x.replace('\\n', ' '))\n",
      "\u001b[32m2025-09-08 19:22:44.335\u001b[0m | \u001b[1mINFO    \u001b[0m | \u001b[36mutils.merge_csv\u001b[0m:\u001b[36mmerge_csv\u001b[0m:\u001b[36m32\u001b[0m - \u001b[1msave 88077 to file:data/pos/llm_ge4.csv\u001b[0m\n"
     ]
    }
   ],
   "source": [
    "from utils.merge_csv import merge_csv\n",
    "\n",
    "merge_csv('llm/ge4/', 'data/pos/llm_ge4.csv')\n",
    "merge_csv('llm/eq3/', 'llm/eq3/llm_eq3.csv')\n",
    "merge_csv('llm/eq2/', 'llm/eq2/llm_eq2.csv')\n",
    "merge_csv('llm/le1/', 'llm/le1/llm_le1.csv')\n",
    "\n"
   ]
  },
  {
   "cell_type": "code",
   "execution_count": null,
   "id": "d24d8a59",
   "metadata": {},
   "outputs": [
    {
     "ename": "ModuleNotFoundError",
     "evalue": "No module named 'data_util'",
     "output_type": "error",
     "traceback": [
      "\u001b[31m---------------------------------------------------------------------------\u001b[39m",
      "\u001b[31mModuleNotFoundError\u001b[39m                       Traceback (most recent call last)",
      "\u001b[36mCell\u001b[39m\u001b[36m \u001b[39m\u001b[32mIn[7]\u001b[39m\u001b[32m, line 1\u001b[39m\n\u001b[32m----> \u001b[39m\u001b[32m1\u001b[39m \u001b[38;5;28;01mfrom\u001b[39;00m\u001b[38;5;250m \u001b[39m\u001b[34;01mutils\u001b[39;00m\u001b[34;01m.\u001b[39;00m\u001b[34;01msample\u001b[39;00m\u001b[38;5;250m \u001b[39m\u001b[38;5;28;01mimport\u001b[39;00m sample\n\u001b[32m      3\u001b[39m sample(\u001b[33m'\u001b[39m\u001b[33mllm/eq2\u001b[39m\u001b[33m'\u001b[39m, \u001b[33m'\u001b[39m\u001b[33mdata/neg/llm_eq2_10k.csv\u001b[39m\u001b[33m'\u001b[39m)\n",
      "\u001b[36mFile \u001b[39m\u001b[32m~/web/utils/sample.py:5\u001b[39m\n\u001b[32m      3\u001b[39m \u001b[38;5;28;01mfrom\u001b[39;00m\u001b[38;5;250m \u001b[39m\u001b[34;01mtqdm\u001b[39;00m\u001b[38;5;250m \u001b[39m\u001b[38;5;28;01mimport\u001b[39;00m tqdm\n\u001b[32m      4\u001b[39m \u001b[38;5;28;01mimport\u001b[39;00m\u001b[38;5;250m \u001b[39m\u001b[34;01margparse\u001b[39;00m\n\u001b[32m----> \u001b[39m\u001b[32m5\u001b[39m \u001b[38;5;28;01mimport\u001b[39;00m\u001b[38;5;250m \u001b[39m\u001b[34;01mdata_util\u001b[39;00m\n\u001b[32m      6\u001b[39m \u001b[38;5;28;01mimport\u001b[39;00m\u001b[38;5;250m \u001b[39m\u001b[34;01mtldextract\u001b[39;00m\n\u001b[32m      7\u001b[39m \u001b[38;5;28;01mfrom\u001b[39;00m\u001b[38;5;250m \u001b[39m\u001b[34;01mloguru\u001b[39;00m\u001b[38;5;250m \u001b[39m\u001b[38;5;28;01mimport\u001b[39;00m logger\n",
      "\u001b[31mModuleNotFoundError\u001b[39m: No module named 'data_util'"
     ]
    }
   ],
   "source": []
  },
  {
   "cell_type": "code",
   "execution_count": null,
   "id": "f2893b9a",
   "metadata": {},
   "outputs": [
    {
     "name": "stderr",
     "output_type": "stream",
     "text": [
      "read files: 100%|██████████| 3/3 [00:01<00:00,  2.23it/s]\n",
      "\u001b[32m2025-09-08 19:28:33.909\u001b[0m | \u001b[1mINFO    \u001b[0m | \u001b[36mutils.merge_csv\u001b[0m:\u001b[36mmerge_csv\u001b[0m:\u001b[36m24\u001b[0m - \u001b[1m原始数据行数: 39996\u001b[0m\n",
      "\u001b[32m2025-09-08 19:28:34.174\u001b[0m | \u001b[1mINFO    \u001b[0m | \u001b[36mutils.merge_csv\u001b[0m:\u001b[36mmerge_csv\u001b[0m:\u001b[36m25\u001b[0m - \u001b[1m重复行数量: 2247\u001b[0m\n",
      "/root/web/utils/merge_csv.py:30: SettingWithCopyWarning: \n",
      "A value is trying to be set on a copy of a slice from a DataFrame.\n",
      "Try using .loc[row_indexer,col_indexer] = value instead\n",
      "\n",
      "See the caveats in the documentation: https://pandas.pydata.org/pandas-docs/stable/user_guide/indexing.html#returning-a-view-versus-a-copy\n",
      "  df_cleaned['text'] = df_cleaned.text.apply(lambda x: x.replace('\\n', ' '))\n",
      "\u001b[32m2025-09-08 19:28:34.407\u001b[0m | \u001b[1mINFO    \u001b[0m | \u001b[36mutils.merge_csv\u001b[0m:\u001b[36mmerge_csv\u001b[0m:\u001b[36m32\u001b[0m - \u001b[1msave 37749 to file:llm/eq2/llm_eq2.csv\u001b[0m\n"
     ]
    }
   ],
   "source": []
  }
 ],
 "metadata": {
  "kernelspec": {
   "display_name": "web",
   "language": "python",
   "name": "python3"
  },
  "language_info": {
   "codemirror_mode": {
    "name": "ipython",
    "version": 3
   },
   "file_extension": ".py",
   "mimetype": "text/x-python",
   "name": "python",
   "nbconvert_exporter": "python",
   "pygments_lexer": "ipython3",
   "version": "3.12.11"
  }
 },
 "nbformat": 4,
 "nbformat_minor": 5
}
