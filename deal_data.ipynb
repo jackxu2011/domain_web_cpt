{
 "cells": [
  {
   "cell_type": "code",
   "execution_count": null,
   "id": "2b9183e9",
   "metadata": {},
   "outputs": [
    {
     "name": "stderr",
     "output_type": "stream",
     "text": [
      " 26%|██▋       | 24/91 [01:55<05:12,  4.67s/it]"
     ]
    }
   ],
   "source": [
    "from glob import glob\n",
    "import os\n",
    "from tqdm import tqdm\n",
    "from utils.data_util import gunzip_file\n",
    "\n",
    "files = glob('/work/group1/datasets/v3/traffic/*.jsonl.gz')\n",
    "os.makedirs('/work/group1/datasets/v3/jsonl/', exist_ok=True)\n",
    "\n",
    "for file in tqdm(files):\n",
    "  filename = os.path.splitext(os.path.basename(file))\n",
    "  gunzip_file(file, f'/work/group1/datasets/v3/jsonl/{filename}')\n"
   ]
  }
 ],
 "metadata": {
  "kernelspec": {
   "display_name": "web-corpus-craft",
   "language": "python",
   "name": "python3"
  },
  "language_info": {
   "codemirror_mode": {
    "name": "ipython",
    "version": 3
   },
   "file_extension": ".py",
   "mimetype": "text/x-python",
   "name": "python",
   "nbconvert_exporter": "python",
   "pygments_lexer": "ipython3",
   "version": "3.12.11"
  }
 },
 "nbformat": 4,
 "nbformat_minor": 5
}
